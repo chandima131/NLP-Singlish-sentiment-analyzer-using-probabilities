{
 "cells": [
  {
   "cell_type": "code",
   "execution_count": 1,
   "id": "14da2a32",
   "metadata": {},
   "outputs": [],
   "source": [
    "#All code from stech\n",
    "import pandas as pd\n",
    "import re\n",
    "import string\n",
    "import nltk\n",
    "from nltk import FreqDist\n",
    "from nltk.tokenize import word_tokenize\n",
    "\n",
    "\n",
    "pd.set_option('display.max_colwidth',100)\n"
   ]
  },
  {
   "cell_type": "code",
   "execution_count": 2,
   "id": "564eed59",
   "metadata": {},
   "outputs": [],
   "source": [
    "#Retrieve Positive comment corpus\n",
    "Positivedata = pd.read_csv('Positive comments', sep='\\t', header = None)\n",
    "Positivedata.columns = ['msg']"
   ]
  },
  {
   "cell_type": "code",
   "execution_count": 3,
   "id": "d276611d",
   "metadata": {},
   "outputs": [],
   "source": [
    "#Retrieve Negative comment corpus\n",
    "Negativedata = pd.read_csv('Negative comments', sep='\\t', header = None)\n",
    "Negativedata.columns = ['msg']"
   ]
  },
  {
   "cell_type": "code",
   "execution_count": 4,
   "id": "f562a2ae",
   "metadata": {},
   "outputs": [],
   "source": [
    "#function for corpus comment preprocessing\n",
    "def clean_text(text):\n",
    "    text = \"\".join([c for c in text.lower() if c not in string.punctuation])\n",
    "    tokens = re.split('\\W+', text)\n",
    "    text = \" \".join([word for word in tokens])\n",
    "    return text"
   ]
  },
  {
   "cell_type": "code",
   "execution_count": 5,
   "id": "126595bf",
   "metadata": {},
   "outputs": [
    {
     "data": {
      "text/html": [
       "<div>\n",
       "<style scoped>\n",
       "    .dataframe tbody tr th:only-of-type {\n",
       "        vertical-align: middle;\n",
       "    }\n",
       "\n",
       "    .dataframe tbody tr th {\n",
       "        vertical-align: top;\n",
       "    }\n",
       "\n",
       "    .dataframe thead th {\n",
       "        text-align: right;\n",
       "    }\n",
       "</style>\n",
       "<table border=\"1\" class=\"dataframe\">\n",
       "  <thead>\n",
       "    <tr style=\"text-align: right;\">\n",
       "      <th></th>\n",
       "      <th>msg</th>\n",
       "      <th>msg_clean</th>\n",
       "    </tr>\n",
       "  </thead>\n",
       "  <tbody>\n",
       "    <tr>\n",
       "      <th>0</th>\n",
       "      <td>me wage watina deyak ratata labadun harshada Silva mathithumani oba thumata vijayakgrahanayak la...</td>\n",
       "      <td>me wage watina deyak ratata labadun harshada silva mathithumani oba thumata vijayakgrahanayak la...</td>\n",
       "    </tr>\n",
       "    <tr>\n",
       "      <th>1</th>\n",
       "      <td>Oba thamayi niyama nayakaya daksayi.parinathyi</td>\n",
       "      <td>oba thamayi niyama nayakaya daksayiparinathyi</td>\n",
       "    </tr>\n",
       "    <tr>\n",
       "      <th>2</th>\n",
       "      <td>Api pinkrala nha obavgenayakyekugen sewayalabanna gunagaruk budimat naykaykek obatuma ape minisu...</td>\n",
       "      <td>api pinkrala nha obavgenayakyekugen sewayalabanna gunagaruk budimat naykaykek obatuma ape minisu...</td>\n",
       "    </tr>\n",
       "    <tr>\n",
       "      <th>3</th>\n",
       "      <td>Oba parliament ekata awasyama mohothai me. Chanda laksa 2.5 k ho dunna minissu wenuwen Enna plz</td>\n",
       "      <td>oba parliament ekata awasyama mohothai me chanda laksa 25 k ho dunna minissu wenuwen enna plz</td>\n",
       "    </tr>\n",
       "    <tr>\n",
       "      <th>4</th>\n",
       "      <td>podi minihage duka hadunana ekama nayakaya obathuma pamanai</td>\n",
       "      <td>podi minihage duka hadunana ekama nayakaya obathuma pamanai</td>\n",
       "    </tr>\n",
       "  </tbody>\n",
       "</table>\n",
       "</div>"
      ],
      "text/plain": [
       "                                                                                                   msg  \\\n",
       "0  me wage watina deyak ratata labadun harshada Silva mathithumani oba thumata vijayakgrahanayak la...   \n",
       "1                                                       Oba thamayi niyama nayakaya daksayi.parinathyi   \n",
       "2  Api pinkrala nha obavgenayakyekugen sewayalabanna gunagaruk budimat naykaykek obatuma ape minisu...   \n",
       "3      Oba parliament ekata awasyama mohothai me. Chanda laksa 2.5 k ho dunna minissu wenuwen Enna plz   \n",
       "4                                          podi minihage duka hadunana ekama nayakaya obathuma pamanai   \n",
       "\n",
       "                                                                                             msg_clean  \n",
       "0  me wage watina deyak ratata labadun harshada silva mathithumani oba thumata vijayakgrahanayak la...  \n",
       "1                                                        oba thamayi niyama nayakaya daksayiparinathyi  \n",
       "2  api pinkrala nha obavgenayakyekugen sewayalabanna gunagaruk budimat naykaykek obatuma ape minisu...  \n",
       "3        oba parliament ekata awasyama mohothai me chanda laksa 25 k ho dunna minissu wenuwen enna plz  \n",
       "4                                          podi minihage duka hadunana ekama nayakaya obathuma pamanai  "
      ]
     },
     "execution_count": 5,
     "metadata": {},
     "output_type": "execute_result"
    }
   ],
   "source": [
    "#Cleaned positive data\n",
    "Positivedata['msg_clean'] = Positivedata['msg'].apply(lambda x: clean_text(x))\n",
    "Positivedata.head()"
   ]
  },
  {
   "cell_type": "code",
   "execution_count": 6,
   "id": "c0933764",
   "metadata": {},
   "outputs": [
    {
     "data": {
      "text/html": [
       "<div>\n",
       "<style scoped>\n",
       "    .dataframe tbody tr th:only-of-type {\n",
       "        vertical-align: middle;\n",
       "    }\n",
       "\n",
       "    .dataframe tbody tr th {\n",
       "        vertical-align: top;\n",
       "    }\n",
       "\n",
       "    .dataframe thead th {\n",
       "        text-align: right;\n",
       "    }\n",
       "</style>\n",
       "<table border=\"1\" class=\"dataframe\">\n",
       "  <thead>\n",
       "    <tr style=\"text-align: right;\">\n",
       "      <th></th>\n",
       "      <th>msg</th>\n",
       "      <th>msg_clean</th>\n",
       "    </tr>\n",
       "  </thead>\n",
       "  <tbody>\n",
       "    <tr>\n",
       "      <th>0</th>\n",
       "      <td>VIP ratha walata janathawa me dakwana wiodaya anduwa kerehi uu yanatha wirodaya saha tharahawa s...</td>\n",
       "      <td>vip ratha walata janathawa me dakwana wiodaya anduwa kerehi uu yanatha wirodaya saha tharahawa s...</td>\n",
       "    </tr>\n",
       "    <tr>\n",
       "      <th>1</th>\n",
       "      <td>Duminda,S.M.Chandrasena, ranjith , uddika premarathna yana mantri waruni, Thalawa eppawala pare ...</td>\n",
       "      <td>dumindasmchandrasena ranjith uddika premarathna yana mantri waruni thalawa eppawala pare deshapa...</td>\n",
       "    </tr>\n",
       "    <tr>\n",
       "      <th>2</th>\n",
       "      <td>wathman arbudayata hethuwa asarthaka uu palakainya</td>\n",
       "      <td>wathman arbudayata hethuwa asarthaka uu palakainya</td>\n",
       "    </tr>\n",
       "    <tr>\n",
       "      <th>3</th>\n",
       "      <td>rassana ne hemadama pare. chandeta witharak api mathak wena deshapalanaya</td>\n",
       "      <td>rassana ne hemadama pare chandeta witharak api mathak wena deshapalanaya</td>\n",
       "    </tr>\n",
       "    <tr>\n",
       "      <th>4</th>\n",
       "      <td>Janathawa biyata path wela adahas dakwanna beri welaaka janawaramatath pitupaala anduwa port cit...</td>\n",
       "      <td>janathawa biyata path wela adahas dakwanna beri welaaka janawaramatath pitupaala anduwa port cit...</td>\n",
       "    </tr>\n",
       "  </tbody>\n",
       "</table>\n",
       "</div>"
      ],
      "text/plain": [
       "                                                                                                   msg  \\\n",
       "0  VIP ratha walata janathawa me dakwana wiodaya anduwa kerehi uu yanatha wirodaya saha tharahawa s...   \n",
       "1  Duminda,S.M.Chandrasena, ranjith , uddika premarathna yana mantri waruni, Thalawa eppawala pare ...   \n",
       "2                                                   wathman arbudayata hethuwa asarthaka uu palakainya   \n",
       "3                            rassana ne hemadama pare. chandeta witharak api mathak wena deshapalanaya   \n",
       "4  Janathawa biyata path wela adahas dakwanna beri welaaka janawaramatath pitupaala anduwa port cit...   \n",
       "\n",
       "                                                                                             msg_clean  \n",
       "0  vip ratha walata janathawa me dakwana wiodaya anduwa kerehi uu yanatha wirodaya saha tharahawa s...  \n",
       "1  dumindasmchandrasena ranjith uddika premarathna yana mantri waruni thalawa eppawala pare deshapa...  \n",
       "2                                                   wathman arbudayata hethuwa asarthaka uu palakainya  \n",
       "3                             rassana ne hemadama pare chandeta witharak api mathak wena deshapalanaya  \n",
       "4  janathawa biyata path wela adahas dakwanna beri welaaka janawaramatath pitupaala anduwa port cit...  "
      ]
     },
     "execution_count": 6,
     "metadata": {},
     "output_type": "execute_result"
    }
   ],
   "source": [
    "#Cleaned negative data\n",
    "Negativedata['msg_clean'] = Negativedata['msg'].apply(lambda x: clean_text(x))\n",
    "Negativedata.head()\n"
   ]
  },
  {
   "cell_type": "code",
   "execution_count": 7,
   "id": "2d2e11aa",
   "metadata": {},
   "outputs": [],
   "source": [
    "#function for user enterd comment preprocessing \n",
    "def comment_clean_text(text):\n",
    "    text = \"\".join([c for c in text.lower() if c not in string.punctuation])\n",
    "    tokens = re.split('\\W+', text)\n",
    "    return tokens"
   ]
  },
  {
   "cell_type": "code",
   "execution_count": 8,
   "id": "202a3da4",
   "metadata": {},
   "outputs": [],
   "source": [
    "#probability calculation\n",
    "def probability_calcuation(user_comment, comments):\n",
    "    unigram_list = []\n",
    "    bigram_list = []\n",
    "\n",
    "    for row in comments:\n",
    "        tokens = re.split('\\W+', row)\n",
    "        unigram_list = unigram_list + list(tokens)\n",
    "        bigrams = nltk.bigrams(tokens)\n",
    "        bigram_list = bigram_list + list(bigrams)\n",
    "    \n",
    "    unigramfreq = FreqDist(unigram_list)\n",
    "    bigramfreq = FreqDist(bigram_list)\n",
    "  \n",
    "    probability = 1.0\n",
    "    \n",
    "    for word in range(len(user_comment)):\n",
    "        if user_comment[word] in bigramfreq:\n",
    "            bigram_count = bigramfreq[user_comment[word]]\n",
    "        else:\n",
    "            bigram_count = 0\n",
    "\n",
    "        if user_comment[word][0] in unigramfreq:\n",
    "            unigram_count = unigramfreq[user_comment[word][0]]\n",
    "        else:\n",
    "            unigram_count = 0\n",
    "\n",
    "        V = len(set(unigram_list))\n",
    "        probability = probability * ((bigram_count + 1) / (unigram_count + V))\n",
    "\n",
    "    return probability"
   ]
  },
  {
   "cell_type": "code",
   "execution_count": 9,
   "id": "2793d505",
   "metadata": {},
   "outputs": [],
   "source": [
    "#perplexity calculation\n",
    "def perplexity_calculation(probability, n):\n",
    "    return pow((1/probability),(1/n))"
   ]
  },
  {
   "cell_type": "code",
   "execution_count": 10,
   "id": "8ac2f861",
   "metadata": {},
   "outputs": [
    {
     "name": "stdout",
     "output_type": "stream",
     "text": [
      "Please enter your comment: dheshapalana jiwithaye madhutu nihathama nayakaya obata jaya niyathayi mewarath ,..\n",
      " \n",
      "Positive Comment\n",
      "Perplexity of comment  = 324.9100099599818\n",
      "\n",
      "Positive probability =  7.62726938347061e-26\n",
      "Negative probability = 8.525370401911896e-27\n"
     ]
    }
   ],
   "source": [
    "comment = input(\"Please enter your comment: \")\n",
    "\n",
    "cleaned_comment = comment_clean_text(comment)\n",
    "number_of_words = len(cleaned_comment)\n",
    "user_comment = list(nltk.bigrams(cleaned_comment))\n",
    "\n",
    "negative_comments = Negativedata['msg_clean']\n",
    "positive_comments = Positivedata['msg_clean']\n",
    "\n",
    "positive_probability = probability_calcuation(user_comment, positive_comments)\n",
    "negative_probability = probability_calcuation(user_comment, negative_comments)\n",
    "\n",
    "if(positive_probability > negative_probability):  #compare positive and negative probabilities\n",
    "    perplexity = perplexity_calculation(positive_probability, number_of_words)\n",
    "    print(\" \")\n",
    "    print(\"Positive Comment\")\n",
    "    print(\"Perplexity of comment  = \" + str(perplexity))\n",
    "else:\n",
    "    perplexity = perplexity_calculation(negative_probability, number_of_words)\n",
    "    print(\" \")\n",
    "    print(\"Negative comment\")\n",
    "    print(\"Perplexity of comment = \" + str(perplexity))\n",
    "    \n",
    "print(\"\")\n",
    "print(\"Positive probability = \" , positive_probability)\n",
    "print(\"Negative probability =\" , negative_probability)"
   ]
  },
  {
   "cell_type": "code",
   "execution_count": null,
   "id": "81a63adf",
   "metadata": {},
   "outputs": [],
   "source": []
  },
  {
   "cell_type": "code",
   "execution_count": null,
   "id": "c0a252ac",
   "metadata": {},
   "outputs": [],
   "source": []
  },
  {
   "cell_type": "code",
   "execution_count": null,
   "id": "e06c4333",
   "metadata": {},
   "outputs": [],
   "source": []
  }
 ],
 "metadata": {
  "kernelspec": {
   "display_name": "Python 3",
   "language": "python",
   "name": "python3"
  },
  "language_info": {
   "codemirror_mode": {
    "name": "ipython",
    "version": 3
   },
   "file_extension": ".py",
   "mimetype": "text/x-python",
   "name": "python",
   "nbconvert_exporter": "python",
   "pygments_lexer": "ipython3",
   "version": "3.7.0"
  }
 },
 "nbformat": 4,
 "nbformat_minor": 5
}
